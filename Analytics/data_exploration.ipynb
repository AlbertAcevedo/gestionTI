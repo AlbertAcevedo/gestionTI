{
  "nbformat": 4,
  "nbformat_minor": 0,
  "metadata": {
    "colab": {
      "name": "data_exploration.ipynb",
      "provenance": [],
      "collapsed_sections": []
    },
    "kernelspec": {
      "name": "python3",
      "display_name": "Python 3"
    },
    "language_info": {
      "name": "python"
    }
  },
  "cells": [
    {
      "cell_type": "code",
      "metadata": {
        "id": "nOGhn28dEJ4Z"
      },
      "source": [
        "import pandas as pd\n",
        "import matplotlib.pyplot as plt\n",
        "import seaborn as sns"
      ],
      "execution_count": null,
      "outputs": []
    },
    {
      "cell_type": "code",
      "metadata": {
        "colab": {
          "base_uri": "https://localhost:8080/",
          "height": 204
        },
        "id": "xUx9EILCFQrO",
        "outputId": "076da131-551e-4f95-cf2a-e3ae5be5fb26"
      },
      "source": [
        "sales = pd.read_csv('sales_grouped.csv')\n",
        "\n",
        "sales.head()"
      ],
      "execution_count": null,
      "outputs": [
        {
          "output_type": "execute_result",
          "data": {
            "text/html": [
              "<div>\n",
              "<style scoped>\n",
              "    .dataframe tbody tr th:only-of-type {\n",
              "        vertical-align: middle;\n",
              "    }\n",
              "\n",
              "    .dataframe tbody tr th {\n",
              "        vertical-align: top;\n",
              "    }\n",
              "\n",
              "    .dataframe thead th {\n",
              "        text-align: right;\n",
              "    }\n",
              "</style>\n",
              "<table border=\"1\" class=\"dataframe\">\n",
              "  <thead>\n",
              "    <tr style=\"text-align: right;\">\n",
              "      <th></th>\n",
              "      <th>Total Revenue</th>\n",
              "      <th>prod_cat</th>\n",
              "      <th>prod_subcat</th>\n",
              "      <th>end_of_month</th>\n",
              "    </tr>\n",
              "  </thead>\n",
              "  <tbody>\n",
              "    <tr>\n",
              "      <th>0</th>\n",
              "      <td>45309</td>\n",
              "      <td>Bags</td>\n",
              "      <td>Mens</td>\n",
              "      <td>1/31/2011 0:00</td>\n",
              "    </tr>\n",
              "    <tr>\n",
              "      <th>1</th>\n",
              "      <td>6136</td>\n",
              "      <td>Bags</td>\n",
              "      <td>Mens</td>\n",
              "      <td>2/28/2011 0:00</td>\n",
              "    </tr>\n",
              "    <tr>\n",
              "      <th>2</th>\n",
              "      <td>66436</td>\n",
              "      <td>Bags</td>\n",
              "      <td>Mens</td>\n",
              "      <td>3/31/2011 0:00</td>\n",
              "    </tr>\n",
              "    <tr>\n",
              "      <th>3</th>\n",
              "      <td>53873</td>\n",
              "      <td>Bags</td>\n",
              "      <td>Mens</td>\n",
              "      <td>4/30/2011 0:00</td>\n",
              "    </tr>\n",
              "    <tr>\n",
              "      <th>4</th>\n",
              "      <td>73058</td>\n",
              "      <td>Bags</td>\n",
              "      <td>Mens</td>\n",
              "      <td>5/31/2011 0:00</td>\n",
              "    </tr>\n",
              "  </tbody>\n",
              "</table>\n",
              "</div>"
            ],
            "text/plain": [
              "   Total Revenue prod_cat prod_subcat    end_of_month\n",
              "0          45309     Bags        Mens  1/31/2011 0:00\n",
              "1           6136     Bags        Mens  2/28/2011 0:00\n",
              "2          66436     Bags        Mens  3/31/2011 0:00\n",
              "3          53873     Bags        Mens  4/30/2011 0:00\n",
              "4          73058     Bags        Mens  5/31/2011 0:00"
            ]
          },
          "metadata": {},
          "execution_count": 48
        }
      ]
    },
    {
      "cell_type": "code",
      "metadata": {
        "colab": {
          "base_uri": "https://localhost:8080/",
          "height": 204
        },
        "id": "OsAuULwcGbJu",
        "outputId": "225ce425-dd07-4db9-fa1f-03ccb91d8cf2"
      },
      "source": [
        "sales_total = sales.copy()\n",
        "sales_total.head()"
      ],
      "execution_count": null,
      "outputs": [
        {
          "output_type": "execute_result",
          "data": {
            "text/html": [
              "<div>\n",
              "<style scoped>\n",
              "    .dataframe tbody tr th:only-of-type {\n",
              "        vertical-align: middle;\n",
              "    }\n",
              "\n",
              "    .dataframe tbody tr th {\n",
              "        vertical-align: top;\n",
              "    }\n",
              "\n",
              "    .dataframe thead th {\n",
              "        text-align: right;\n",
              "    }\n",
              "</style>\n",
              "<table border=\"1\" class=\"dataframe\">\n",
              "  <thead>\n",
              "    <tr style=\"text-align: right;\">\n",
              "      <th></th>\n",
              "      <th>Total Revenue</th>\n",
              "      <th>prod_cat</th>\n",
              "      <th>prod_subcat</th>\n",
              "      <th>end_of_month</th>\n",
              "    </tr>\n",
              "  </thead>\n",
              "  <tbody>\n",
              "    <tr>\n",
              "      <th>0</th>\n",
              "      <td>45309</td>\n",
              "      <td>Bags</td>\n",
              "      <td>Mens</td>\n",
              "      <td>1/31/2011 0:00</td>\n",
              "    </tr>\n",
              "    <tr>\n",
              "      <th>1</th>\n",
              "      <td>6136</td>\n",
              "      <td>Bags</td>\n",
              "      <td>Mens</td>\n",
              "      <td>2/28/2011 0:00</td>\n",
              "    </tr>\n",
              "    <tr>\n",
              "      <th>2</th>\n",
              "      <td>66436</td>\n",
              "      <td>Bags</td>\n",
              "      <td>Mens</td>\n",
              "      <td>3/31/2011 0:00</td>\n",
              "    </tr>\n",
              "    <tr>\n",
              "      <th>3</th>\n",
              "      <td>53873</td>\n",
              "      <td>Bags</td>\n",
              "      <td>Mens</td>\n",
              "      <td>4/30/2011 0:00</td>\n",
              "    </tr>\n",
              "    <tr>\n",
              "      <th>4</th>\n",
              "      <td>73058</td>\n",
              "      <td>Bags</td>\n",
              "      <td>Mens</td>\n",
              "      <td>5/31/2011 0:00</td>\n",
              "    </tr>\n",
              "  </tbody>\n",
              "</table>\n",
              "</div>"
            ],
            "text/plain": [
              "   Total Revenue prod_cat prod_subcat    end_of_month\n",
              "0          45309     Bags        Mens  1/31/2011 0:00\n",
              "1           6136     Bags        Mens  2/28/2011 0:00\n",
              "2          66436     Bags        Mens  3/31/2011 0:00\n",
              "3          53873     Bags        Mens  4/30/2011 0:00\n",
              "4          73058     Bags        Mens  5/31/2011 0:00"
            ]
          },
          "metadata": {},
          "execution_count": 49
        }
      ]
    },
    {
      "cell_type": "code",
      "metadata": {
        "id": "NFvkPflKKqWu"
      },
      "source": [
        "sales_total.index = pd.to_datetime(sales_total['end_of_month'],format='%m/%d/%Y %H:%M')\n",
        "st_grouped = sales_total.groupby(by=sales_total.index).sum()"
      ],
      "execution_count": null,
      "outputs": []
    },
    {
      "cell_type": "code",
      "metadata": {
        "colab": {
          "base_uri": "https://localhost:8080/",
          "height": 1000
        },
        "id": "z4vVAGN2KufU",
        "outputId": "858c3181-6976-4b14-8478-51e9b27c11b8"
      },
      "source": [
        "st_grouped.head(50)"
      ],
      "execution_count": null,
      "outputs": [
        {
          "output_type": "execute_result",
          "data": {
            "text/html": [
              "<div>\n",
              "<style scoped>\n",
              "    .dataframe tbody tr th:only-of-type {\n",
              "        vertical-align: middle;\n",
              "    }\n",
              "\n",
              "    .dataframe tbody tr th {\n",
              "        vertical-align: top;\n",
              "    }\n",
              "\n",
              "    .dataframe thead th {\n",
              "        text-align: right;\n",
              "    }\n",
              "</style>\n",
              "<table border=\"1\" class=\"dataframe\">\n",
              "  <thead>\n",
              "    <tr style=\"text-align: right;\">\n",
              "      <th></th>\n",
              "      <th>Total Revenue</th>\n",
              "    </tr>\n",
              "    <tr>\n",
              "      <th>end_of_month</th>\n",
              "      <th></th>\n",
              "    </tr>\n",
              "  </thead>\n",
              "  <tbody>\n",
              "    <tr>\n",
              "      <th>2011-01-31</th>\n",
              "      <td>760234</td>\n",
              "    </tr>\n",
              "    <tr>\n",
              "      <th>2011-02-28</th>\n",
              "      <td>957106</td>\n",
              "    </tr>\n",
              "    <tr>\n",
              "      <th>2011-03-31</th>\n",
              "      <td>1212644</td>\n",
              "    </tr>\n",
              "    <tr>\n",
              "      <th>2011-04-30</th>\n",
              "      <td>1200185</td>\n",
              "    </tr>\n",
              "    <tr>\n",
              "      <th>2011-05-31</th>\n",
              "      <td>1022402</td>\n",
              "    </tr>\n",
              "    <tr>\n",
              "      <th>2011-06-30</th>\n",
              "      <td>1160470</td>\n",
              "    </tr>\n",
              "    <tr>\n",
              "      <th>2011-07-31</th>\n",
              "      <td>1087260</td>\n",
              "    </tr>\n",
              "    <tr>\n",
              "      <th>2011-08-31</th>\n",
              "      <td>1084520</td>\n",
              "    </tr>\n",
              "    <tr>\n",
              "      <th>2011-09-30</th>\n",
              "      <td>1325662</td>\n",
              "    </tr>\n",
              "    <tr>\n",
              "      <th>2011-10-31</th>\n",
              "      <td>1252409</td>\n",
              "    </tr>\n",
              "    <tr>\n",
              "      <th>2011-11-30</th>\n",
              "      <td>1213118</td>\n",
              "    </tr>\n",
              "    <tr>\n",
              "      <th>2011-12-31</th>\n",
              "      <td>1055769</td>\n",
              "    </tr>\n",
              "    <tr>\n",
              "      <th>2012-01-31</th>\n",
              "      <td>1104097</td>\n",
              "    </tr>\n",
              "    <tr>\n",
              "      <th>2012-02-29</th>\n",
              "      <td>1166549</td>\n",
              "    </tr>\n",
              "    <tr>\n",
              "      <th>2012-03-31</th>\n",
              "      <td>1260801</td>\n",
              "    </tr>\n",
              "    <tr>\n",
              "      <th>2012-04-30</th>\n",
              "      <td>1041041</td>\n",
              "    </tr>\n",
              "    <tr>\n",
              "      <th>2012-05-31</th>\n",
              "      <td>1215436</td>\n",
              "    </tr>\n",
              "    <tr>\n",
              "      <th>2012-06-30</th>\n",
              "      <td>1255389</td>\n",
              "    </tr>\n",
              "    <tr>\n",
              "      <th>2012-07-31</th>\n",
              "      <td>1164980</td>\n",
              "    </tr>\n",
              "    <tr>\n",
              "      <th>2012-08-31</th>\n",
              "      <td>1217947</td>\n",
              "    </tr>\n",
              "    <tr>\n",
              "      <th>2012-09-30</th>\n",
              "      <td>1118846</td>\n",
              "    </tr>\n",
              "    <tr>\n",
              "      <th>2012-10-31</th>\n",
              "      <td>1287960</td>\n",
              "    </tr>\n",
              "    <tr>\n",
              "      <th>2012-11-30</th>\n",
              "      <td>1270652</td>\n",
              "    </tr>\n",
              "    <tr>\n",
              "      <th>2012-12-31</th>\n",
              "      <td>1288803</td>\n",
              "    </tr>\n",
              "    <tr>\n",
              "      <th>2013-01-31</th>\n",
              "      <td>1206340</td>\n",
              "    </tr>\n",
              "    <tr>\n",
              "      <th>2013-02-28</th>\n",
              "      <td>1076805</td>\n",
              "    </tr>\n",
              "    <tr>\n",
              "      <th>2013-03-31</th>\n",
              "      <td>1231703</td>\n",
              "    </tr>\n",
              "    <tr>\n",
              "      <th>2013-04-30</th>\n",
              "      <td>1139136</td>\n",
              "    </tr>\n",
              "    <tr>\n",
              "      <th>2013-05-31</th>\n",
              "      <td>1126044</td>\n",
              "    </tr>\n",
              "    <tr>\n",
              "      <th>2013-06-30</th>\n",
              "      <td>1116560</td>\n",
              "    </tr>\n",
              "    <tr>\n",
              "      <th>2013-07-31</th>\n",
              "      <td>1177749</td>\n",
              "    </tr>\n",
              "    <tr>\n",
              "      <th>2013-08-31</th>\n",
              "      <td>1178484</td>\n",
              "    </tr>\n",
              "    <tr>\n",
              "      <th>2013-09-30</th>\n",
              "      <td>1276564</td>\n",
              "    </tr>\n",
              "    <tr>\n",
              "      <th>2013-10-31</th>\n",
              "      <td>1315575</td>\n",
              "    </tr>\n",
              "    <tr>\n",
              "      <th>2013-11-30</th>\n",
              "      <td>1137905</td>\n",
              "    </tr>\n",
              "    <tr>\n",
              "      <th>2013-12-31</th>\n",
              "      <td>1233243</td>\n",
              "    </tr>\n",
              "  </tbody>\n",
              "</table>\n",
              "</div>"
            ],
            "text/plain": [
              "              Total Revenue\n",
              "end_of_month               \n",
              "2011-01-31           760234\n",
              "2011-02-28           957106\n",
              "2011-03-31          1212644\n",
              "2011-04-30          1200185\n",
              "2011-05-31          1022402\n",
              "2011-06-30          1160470\n",
              "2011-07-31          1087260\n",
              "2011-08-31          1084520\n",
              "2011-09-30          1325662\n",
              "2011-10-31          1252409\n",
              "2011-11-30          1213118\n",
              "2011-12-31          1055769\n",
              "2012-01-31          1104097\n",
              "2012-02-29          1166549\n",
              "2012-03-31          1260801\n",
              "2012-04-30          1041041\n",
              "2012-05-31          1215436\n",
              "2012-06-30          1255389\n",
              "2012-07-31          1164980\n",
              "2012-08-31          1217947\n",
              "2012-09-30          1118846\n",
              "2012-10-31          1287960\n",
              "2012-11-30          1270652\n",
              "2012-12-31          1288803\n",
              "2013-01-31          1206340\n",
              "2013-02-28          1076805\n",
              "2013-03-31          1231703\n",
              "2013-04-30          1139136\n",
              "2013-05-31          1126044\n",
              "2013-06-30          1116560\n",
              "2013-07-31          1177749\n",
              "2013-08-31          1178484\n",
              "2013-09-30          1276564\n",
              "2013-10-31          1315575\n",
              "2013-11-30          1137905\n",
              "2013-12-31          1233243"
            ]
          },
          "metadata": {},
          "execution_count": 61
        }
      ]
    },
    {
      "cell_type": "code",
      "metadata": {
        "id": "HygmaYjONQ-z"
      },
      "source": [
        ""
      ],
      "execution_count": null,
      "outputs": []
    },
    {
      "cell_type": "code",
      "metadata": {
        "id": "VxixrMPpO5Gm",
        "colab": {
          "base_uri": "https://localhost:8080/",
          "height": 537
        },
        "outputId": "3debc7f5-a057-499a-a89f-7f98080c90dc"
      },
      "source": [
        "plt.rcParams[\"figure.figsize\"] = (20,8)\n",
        "st_grouped.plot()"
      ],
      "execution_count": null,
      "outputs": [
        {
          "output_type": "execute_result",
          "data": {
            "text/plain": [
              "<matplotlib.axes._subplots.AxesSubplot at 0x7fe936cedfd0>"
            ]
          },
          "metadata": {},
          "execution_count": 62
        },
        {
          "output_type": "display_data",
          "data": {
            "image/png": "[encoded data removed]",
            "text/plain": [
              "<Figure size 1440x576 with 1 Axes>"
            ]
          },
          "metadata": {
            "needs_background": "light"
          }
        }
      ]
    }
  ]
}